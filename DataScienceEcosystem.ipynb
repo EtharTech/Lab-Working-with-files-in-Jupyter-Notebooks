{
 "cells": [
  {
   "cell_type": "markdown",
   "id": "8b1e98c2-dfa0-4f8e-8efd-43028f99b386",
   "metadata": {},
   "source": [
    "# Data Science Tools and Ecosystem"
   ]
  },
  {
   "cell_type": "markdown",
   "id": "63b50627-ce35-47e6-81d6-e8e6b872a10c",
   "metadata": {},
   "source": [
    "In this notebook, Data Science Tools and Ecosystem are summarized."
   ]
  },
  {
   "cell_type": "markdown",
   "id": "0af64ddc-032f-41dc-bb25-b750ac720e20",
   "metadata": {},
   "source": [
    "**Objectives:**\n",
    "- List popular languages for Data Science\n",
    "- List commonly used labraries for Data Science\n",
    "- List in table some Data Science Tools "
   ]
  },
  {
   "cell_type": "markdown",
   "id": "b8bf59c5-f9e3-4e85-980d-471a4f142bb2",
   "metadata": {},
   "source": [
    "Some of the popular languages that Data Scientists use are:\n",
    "1. Python\n",
    "2. R \n",
    "3. Scala "
   ]
  },
  {
   "cell_type": "markdown",
   "id": "9dc07951-d148-4ffe-adaa-b98ecdd14f3e",
   "metadata": {},
   "source": [
    "Some of the commonly used libraries used by Data Scientists include:\n",
    "1. Tensorflow\n",
    "2. sikit-learn\n",
    "3. Pandas\n",
    "4. NumPy\n",
    "5. spaCy "
   ]
  },
  {
   "cell_type": "markdown",
   "id": "41f86683-2845-4cef-81c1-5cd84baddf4b",
   "metadata": {},
   "source": [
    "|Data Science Tools|\n",
    "|--------------------|\n",
    "|Jupyter Notebook |\n",
    "| Google Colab                   |\n",
    "| Spyder                         |\n",
    "| VS Code                        |\n",
    "| RStudio                        |"
   ]
  },
  {
   "cell_type": "markdown",
   "id": "dcffb9c9-b569-4a57-8e2e-23de6760b141",
   "metadata": {},
   "source": [
    "### Below are a few examples of evaluating arithmetic expressions in Python"
   ]
  },
  {
   "cell_type": "code",
   "execution_count": 1,
   "id": "b2b97802-7be8-49ac-9440-c0e68b7eb64f",
   "metadata": {},
   "outputs": [
    {
     "data": {
      "text/plain": [
       "17"
      ]
     },
     "execution_count": 1,
     "metadata": {},
     "output_type": "execute_result"
    }
   ],
   "source": [
    "# This a simple arithmetic expression to mutiply then add integers\n",
    "(3*4)+5"
   ]
  },
  {
   "cell_type": "code",
   "execution_count": 2,
   "id": "726ee776-851f-46bc-bd57-712603479465",
   "metadata": {},
   "outputs": [
    {
     "data": {
      "text/plain": [
       "3.3333333333333335"
      ]
     },
     "execution_count": 2,
     "metadata": {},
     "output_type": "execute_result"
    }
   ],
   "source": [
    "#This will convert 200 minutes to hours by diving by 60\n",
    "(200/60)"
   ]
  },
  {
   "cell_type": "markdown",
   "id": "65f1d7d6-762b-419f-9508-b3b14a9dc9e0",
   "metadata": {},
   "source": [
    "## Author\n",
    "Ethar"
   ]
  },
  {
   "cell_type": "code",
   "execution_count": null,
   "id": "091d79ef-4918-4823-9631-a6f9630d2ae1",
   "metadata": {},
   "outputs": [],
   "source": []
  }
 ],
 "metadata": {
  "kernelspec": {
   "display_name": "Python 3 (ipykernel)",
   "language": "python",
   "name": "python3"
  },
  "language_info": {
   "codemirror_mode": {
    "name": "ipython",
    "version": 3
   },
   "file_extension": ".py",
   "mimetype": "text/x-python",
   "name": "python",
   "nbconvert_exporter": "python",
   "pygments_lexer": "ipython3",
   "version": "3.10.14"
  }
 },
 "nbformat": 4,
 "nbformat_minor": 5
}
